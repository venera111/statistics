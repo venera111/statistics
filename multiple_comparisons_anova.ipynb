{
 "cells": [
  {
   "cell_type": "code",
   "execution_count": 1,
   "id": "798ed32e",
   "metadata": {},
   "outputs": [],
   "source": [
    "import pandas as pd\n",
    "import scipy.stats as stats\n",
    "import matplotlib.pyplot as plt\n",
    "import itertools\n",
    "import numpy as np"
   ]
  },
  {
   "cell_type": "markdown",
   "id": "4397b762",
   "metadata": {},
   "source": [
    "Множественные сравнения нужны для того, чтобы узнать, какие выборки имеют статистически значимое различие. Если у нас 2 выборки, то парное сравнение даст уровень значимости 0,05. С ростом числа выборок, например, 8 выборок, мы проводим попарное сравнение 8*(8-1)/2 = 28 сравнений. И вероятность встретить хотя бы одно статистически значимое различие увеличивается до 0,496."
   ]
  },
  {
   "cell_type": "code",
   "execution_count": 2,
   "id": "e82b20ca",
   "metadata": {},
   "outputs": [
    {
     "data": {
      "image/png": "[encoded data removed]",
      "text/plain": [
       "<Figure size 432x288 with 1 Axes>"
      ]
     },
     "metadata": {
      "needs_background": "light"
     },
     "output_type": "display_data"
    }
   ],
   "source": [
    "M = 0\n",
    "D = 1\n",
    "\n",
    "def ttest(a, b):\n",
    "    se = np.sqrt(a['SD']**2/a['N'] + b['SD']**2/b['N'])\n",
    "    t = (a['Mx'] - b['Mx'])/se\n",
    "    dfreedom = a['N'] + b['N'] - 2\n",
    "    return stats.t.sf(np.abs(t), dfreedom)*2\n",
    "\n",
    "# n - элементов в выборке\n",
    "# m - количество выборок\n",
    "# a -  вероятность\n",
    "def false_alarm(m, n, a):\n",
    "    trys = 1000 # количество экспериментов\n",
    "    hist = {'Да':0, 'Нет':0} # результаты сравнений     \n",
    "    data = list(range(m)) # инициализация групп с выборками\n",
    "    \n",
    "    # запускаем trys экспериментов\n",
    "    for i in range(trys):\n",
    "        \n",
    "        # наполняем m выборок, для ускорения сразу их агрегируем по SD, Mx, N\n",
    "        for j in range(m):\n",
    "            dt = stats.norm.rvs(loc=M, scale=D, size=n)\n",
    "            data[j] = {'SD':np.std(dt, ddof = 1), 'Mx':np.mean(dt), 'N':n}\n",
    "        \n",
    "        #сравниваем выборки по 2 группы, перебор можно реализовать с помощью двух циклов или воспользоваться itertools\n",
    "        for first, second in itertools.combinations(data, 2):\n",
    "            if ttest(first, second) <= a:\n",
    "                hist['Да']+=1\n",
    "                break\n",
    "        else:\n",
    "            hist['Нет']+=1\n",
    "\n",
    "    # рисуем гитограмму частот\n",
    "    barlist = plt.bar(hist.keys(), hist.values(), color='b')\n",
    "    barlist[0].set_color('r')\n",
    "    plt.title(round(hist['Да'] / trys,3))\n",
    "    plt.ylabel('количество')\n",
    "    plt.show()\n",
    "    \n",
    "\n",
    "false_alarm(8,30,0.05)"
   ]
  },
  {
   "cell_type": "markdown",
   "id": "96ac18f3",
   "metadata": {},
   "source": [
    "Вероятность ошибки первого рода (получить вероятность значимых различий там, где их нет) возрастает пропорционально количеству групп, которые мы сравниваем попарно (количество гипотез, которые мы проверяем в нашем эксперименте). \n",
    "\n",
    "Чтобы корректно отобразить вероятность встретить хотя бы одно различие при попарном сравнении, нужно использовать Поправку Бонферрони уровня значимости альфа. Нужно поделить альфа на количество сравнений. В нашем случае на 28.\n",
    "\n",
    "Если мы хотим удержать вероятность ошибки I рода на уровне 0,05, то делим это уровень на количество попарных сравнений. Новый показатель альфа используем в нашем эксперименте. "
   ]
  },
  {
   "cell_type": "code",
   "execution_count": 3,
   "id": "dd9ebaed",
   "metadata": {},
   "outputs": [
    {
     "data": {
      "text/plain": [
       "0.0017857142857142859"
      ]
     },
     "execution_count": 3,
     "metadata": {},
     "output_type": "execute_result"
    }
   ],
   "source": [
    "0.05 / 28"
   ]
  },
  {
   "cell_type": "code",
   "execution_count": 4,
   "id": "c17fd2a7",
   "metadata": {},
   "outputs": [
    {
     "data": {
      "image/png": "[encoded data removed]",
      "text/plain": [
       "<Figure size 432x288 with 1 Axes>"
      ]
     },
     "metadata": {
      "needs_background": "light"
     },
     "output_type": "display_data"
    }
   ],
   "source": [
    "false_alarm(8,30,0.0017857142857142859)"
   ]
  },
  {
   "cell_type": "markdown",
   "id": "5402c54a",
   "metadata": {},
   "source": [
    "Если мы бы принимали различия статистически значимыми на уровне нового коэфициента альфа = 0.0017857142857142859, то только в 4,4% случаях мы бы получили хотя бы одно значимое различие."
   ]
  },
  {
   "cell_type": "code",
   "execution_count": 5,
   "id": "eef85983",
   "metadata": {},
   "outputs": [
    {
     "data": {
      "text/plain": [
       "190.0"
      ]
     },
     "execution_count": 5,
     "metadata": {},
     "output_type": "execute_result"
    }
   ],
   "source": [
    "20 * 19 / 2"
   ]
  },
  {
   "cell_type": "code",
   "execution_count": 6,
   "id": "d6486bb4",
   "metadata": {},
   "outputs": [
    {
     "data": {
      "text/plain": [
       "0.0002631578947368421"
      ]
     },
     "execution_count": 6,
     "metadata": {},
     "output_type": "execute_result"
    }
   ],
   "source": [
    "0.05 / 190"
   ]
  },
  {
   "cell_type": "code",
   "execution_count": 7,
   "id": "2de6df20",
   "metadata": {},
   "outputs": [
    {
     "data": {
      "image/png": "[encoded data removed]",
      "text/plain": [
       "<Figure size 432x288 with 1 Axes>"
      ]
     },
     "metadata": {
      "needs_background": "light"
     },
     "output_type": "display_data"
    }
   ],
   "source": [
    "false_alarm(20,30,0.0002631578947368421)"
   ]
  },
  {
   "cell_type": "markdown",
   "id": "d3e4c75b",
   "metadata": {},
   "source": [
    "Поправка позволяет избежать ложных открытий. Но при этом поправка Бонферонни сильно понижает уровень значимости. Установить различия достаточно трудно. Поэтому разработали другой метод, менее консервативный: Поправка Тьюки.\n",
    "\n",
    "Критерий Тьюки похож на t-test, попарно сравнивает комбинации средних, однако, здесь по другому расчитывается SE и по-другому расчитывается сам t критерий. С помощью критерия Тьюки можно рассчитать доверительный интервал между разницей средних значений групп A и Б. И если такой доверительный интервал не включает в себя 0, то можно отклонить гипотезу о равенстве средних. \n",
    "\n",
    "Вернемся к сравнению экспрессии генов в четырех исследованиях:"
   ]
  },
  {
   "cell_type": "code",
   "execution_count": 8,
   "id": "3fc79e5b",
   "metadata": {},
   "outputs": [
    {
     "data": {
      "text/html": [
       "<table class=\"simpletable\">\n",
       "<caption>Multiple Comparison of Means - Tukey HSD, FWER=0.05</caption>\n",
       "<tr>\n",
       "  <th>group1</th> <th>group2</th> <th>meandiff</th>  <th>p-adj</th>   <th>lower</th>   <th>upper</th>  <th>reject</th>\n",
       "</tr>\n",
       "<tr>\n",
       "     <td>A</td>      <td>B</td>    <td>-0.9333</td>   <td>0.9</td>   <td>-5.5961</td> <td>3.7294</td>   <td>False</td>\n",
       "</tr>\n",
       "<tr>\n",
       "     <td>A</td>      <td>C</td>    <td>-5.3333</td> <td>0.0189</td>  <td>-9.9961</td> <td>-0.6706</td>  <td>True</td> \n",
       "</tr>\n",
       "<tr>\n",
       "     <td>A</td>      <td>D</td>     <td>-7.4</td>    <td>0.001</td> <td>-12.0628</td> <td>-2.7372</td>  <td>True</td> \n",
       "</tr>\n",
       "<tr>\n",
       "     <td>B</td>      <td>C</td>     <td>-4.4</td>   <td>0.0712</td>  <td>-9.0628</td> <td>0.2628</td>   <td>False</td>\n",
       "</tr>\n",
       "<tr>\n",
       "     <td>B</td>      <td>D</td>    <td>-6.4667</td> <td>0.0029</td> <td>-11.1294</td> <td>-1.8039</td>  <td>True</td> \n",
       "</tr>\n",
       "<tr>\n",
       "     <td>C</td>      <td>D</td>    <td>-2.0667</td> <td>0.6296</td>  <td>-6.7294</td> <td>2.5961</td>   <td>False</td>\n",
       "</tr>\n",
       "</table>"
      ],
      "text/plain": [
       "<class 'statsmodels.iolib.table.SimpleTable'>"
      ]
     },
     "execution_count": 8,
     "metadata": {},
     "output_type": "execute_result"
    }
   ],
   "source": [
    "from statsmodels.stats.multicomp import (pairwise_tukeyhsd, MultiComparison)\n",
    "data_stepik = pd.read_csv('https://stepik.org/media/attachments/lesson/8083/genetherapy.csv')\n",
    "MultiComp = MultiComparison(data_stepik['expr'], data_stepik['Therapy'])\n",
    "MultiComp.tukeyhsd().summary()"
   ]
  },
  {
   "cell_type": "markdown",
   "id": "fe69eeff",
   "metadata": {},
   "source": [
    "Значимо между собой отличаются: AC, AD, BD, так как доверительные интервалы разниц средних не включают в себя 0 (ноль)."
   ]
  }
 ],
 "metadata": {
  "kernelspec": {
   "display_name": "Python 3 (ipykernel)",
   "language": "python",
   "name": "python3"
  },
  "language_info": {
   "codemirror_mode": {
    "name": "ipython",
    "version": 3
   },
   "file_extension": ".py",
   "mimetype": "text/x-python",
   "name": "python",
   "nbconvert_exporter": "python",
   "pygments_lexer": "ipython3",
   "version": "3.8.8"
  }
 },
 "nbformat": 4,
 "nbformat_minor": 5
}
