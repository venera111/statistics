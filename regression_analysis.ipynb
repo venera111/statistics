{
 "cells": [
  {
   "cell_type": "code",
   "execution_count": 1,
   "id": "721c50c9",
   "metadata": {},
   "outputs": [],
   "source": [
    "import pandas as pd\n",
    "import matplotlib.pyplot as plt\n",
    "import scipy.stats as stats\n",
    "import numpy as np"
   ]
  },
  {
   "cell_type": "markdown",
   "id": "bdcc65bc",
   "metadata": {},
   "source": [
    "Проследим взаимосвязь двух переменных с помощью регрессионного анализа.\n",
    "\n",
    "- Независимая переменная: процент среднего образования в штатах США\n",
    "- Зависимая переменная: процент бедности в штатах США"
   ]
  },
  {
   "cell_type": "code",
   "execution_count": 3,
   "id": "db5330de",
   "metadata": {},
   "outputs": [
    {
     "data": {
      "image/png": "[encoded data removed]",
      "text/plain": [
       "<Figure size 720x504 with 1 Axes>"
      ]
     },
     "metadata": {
      "needs_background": "light"
     },
     "output_type": "display_data"
    },
    {
     "name": "stdout",
     "output_type": "stream",
     "text": [
      "             Estimate  Std.Error  t value      Pr(>|t|)\n",
      "(Intercept)   64.7810     6.8026     9.52  9.940660e-13\n",
      "hs_grand      -0.6212     0.0790    -7.86  3.108830e-10\n",
      "\n",
      "Multiple R-squared: 0.5578,\n",
      "F-statistic(1,49) = 61.81, p-value = 3.10882981031842e-10\n"
     ]
    }
   ],
   "source": [
    "data=pd.read_csv('http://d396qusza40orc.cloudfront.net/statistics/lec_resources/states.csv', sep=',')\n",
    "\n",
    "# рассчет ковариационной матрицы двух векторов, на выходе ковариация и дисперсии каждого из массивов, \n",
    "# или можно рассчитать вручную по формулам из уроков cov - урок 3_1 третье видео; D - урок 1_5 третье видео\n",
    "X = data['hs_grad']\n",
    "Y = data['poverty']\n",
    "ssxm, ssxym, ssyxm, ssym = np.cov(X,Y).flat\n",
    "\n",
    "# рассчет корреляции по формуле из урока 3_1 третье видео: r = cov/stdx*stdy, \n",
    "# т. к. в ковариационной матрице у нас дисперсии, то в знаменателе нужно взять квадратный корень \n",
    "if ssxm == 0 or ssym == 0:\n",
    "    r = 0\n",
    "else:\n",
    "    r = ssxym / (ssxm * ssym)**0.5\n",
    "    \n",
    "# расчет slope и intercept из урока 3_3 второе видео: slope = (stdy/stdx) * r\n",
    "slope = r * (ssym/ssxm)**0.5\n",
    "intercept = np.mean(Y) - slope * np.mean(X)\n",
    "\n",
    "df = len(X) - 2\n",
    "# рассчет t - значения, вероятности p и стандартной ошибки для X параметра подсмотренно тут: \n",
    "# https://github.com/scipy/scipy/blob/v1.4.1/scipy/stats/_stats_mstats_common.py#L15-L144\n",
    "tx = r * np.sqrt(df / ((1.0 - r)*(1.0 + r)))\n",
    "sterrestx = np.sqrt((1 - r**2) * ssym / ssxm / df)\n",
    "px = 2 * stats.t.sf(np.abs(tx), df)\n",
    "\n",
    "# Находим сумму квадратов по параметру X\n",
    "s = [i**2 for i in X]\n",
    "sterresty = (sterrestx**2/51*sum(s))**0.5\n",
    "\n",
    "# рассчет t - значения, вероятности p и стандартной ошибки для Y параметра подсмотренно тут: \n",
    "# https://en.wikipedia.org/wiki/Simple_linear_regression\n",
    "ty = intercept/sterresty\n",
    "py = 2 * stats.t.sf(np.abs(ty), df)\n",
    "\n",
    "# рассчет F-статистики подсмотренно тут:\n",
    "# https://www.chem-astu.ru/science/reference/fischer.html\n",
    "F = r**2/(1-r**2)*df\n",
    "p_val = stats.f.sf(F, 1, df)\n",
    "\n",
    "# создаем таблицу как в лекции\n",
    "ttlinear = pd.DataFrame(data = {\n",
    "    'Estimate':[round(num, 4) for num in [intercept,slope]], 'Std.Error':[round(num, 4) for num in [sterresty, sterrestx]], \n",
    "    't value':[round(num, 2) for num in [ty,tx]], 'Pr(>|t|)':[py,px]}, \n",
    "                        index = ['(Intercept)','hs_grand'])\n",
    "\n",
    "# вычисляем остатки\n",
    "#residuals = Y - intercept - slope*X\n",
    "\n",
    "fig, ax1 = plt.subplots(nrows=1, ncols=1, figsize=(10, 7))\n",
    "\n",
    "# точечный график\n",
    "ax1.scatter(X,Y)\n",
    "\n",
    "# регрессионная прямая\n",
    "x1=np.linspace(min(X),max(X),51)\n",
    "y1=intercept + slope*x1\n",
    "plt.plot(x1,y1,'-r',label='b0 = {}, b1 = {}'.format(round(intercept,2), round(slope,2)))\n",
    "\n",
    "plt.grid()\n",
    "plt.title('Связь бедности и уровня образования')\n",
    "plt.xlabel('Среднее образование (%)')\n",
    "plt.ylabel('Бедность (%)')\n",
    "plt.xticks(np.arange(76,93, step=4))\n",
    "plt.yticks(np.arange(5,18, step=5))\n",
    "plt.legend(loc='upper right')\n",
    "plt.show()\n",
    "\n",
    "\n",
    "print(ttlinear)\n",
    "print('')\n",
    "print('Multiple R-squared: {},'.format(round(r**2,4)))\n",
    "print('F-statistic(1,{}) = {}, p-value = {}'.format(df, round(F,2), p_val))"
   ]
  },
  {
   "cell_type": "markdown",
   "id": "b1397a48",
   "metadata": {},
   "source": [
    "Наблюдаем отрицательную зависимость переменной от независимой переменной. Уровень p-значимости ниже порога, что позволяет отклонить нулевую гипотезу о равенстве коэффициента b1 нулю (коэффициента прямой). Это говорит о том, что уровень бедности значимо изменяется из-за изменения процента среднего образования. Каждое изменение среднего образования на 1% обуславливает отрицательное изменение бедности на 0,62%. "
   ]
  },
  {
   "cell_type": "code",
   "execution_count": null,
   "id": "123176ed",
   "metadata": {},
   "outputs": [],
   "source": []
  }
 ],
 "metadata": {
  "kernelspec": {
   "display_name": "Python 3 (ipykernel)",
   "language": "python",
   "name": "python3"
  },
  "language_info": {
   "codemirror_mode": {
    "name": "ipython",
    "version": 3
   },
   "file_extension": ".py",
   "mimetype": "text/x-python",
   "name": "python",
   "nbconvert_exporter": "python",
   "pygments_lexer": "ipython3",
   "version": "3.8.8"
  }
 },
 "nbformat": 4,
 "nbformat_minor": 5
}
