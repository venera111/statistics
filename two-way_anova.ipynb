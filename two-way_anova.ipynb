{
 "cells": [
  {
   "cell_type": "code",
   "execution_count": 2,
   "id": "515e3f0b",
   "metadata": {},
   "outputs": [],
   "source": [
    "import pandas as pd\n",
    "from statsmodels.graphics.factorplots import interaction_plot\n",
    "from scipy import stats\n",
    "\n",
    "data=pd.read_csv('https://stepik.org/media/attachments/lesson/9250/atherosclerosis.csv', sep=',')"
   ]
  },
  {
   "cell_type": "markdown",
   "id": "2bbed76b",
   "metadata": {},
   "source": [
    "Анализ экспрессии генов лейкоцитов. В эксперименте исследовался уровень экспресси генов в зависимости от возраста пациентов и дозировки лекартва аторвастатина.\n",
    "\n",
    "Age (возраст):\n",
    "- 1: молодые\n",
    "- 2: пожилые\n",
    "\n",
    "Dose (дозировка):\n",
    "- D1: высокая\n",
    "- D2: низкая\n",
    "\n",
    "Независимые переменные: возраст и дозировка. Зависимая переменная: уровень экспрессии генов."
   ]
  },
  {
   "cell_type": "code",
   "execution_count": 20,
   "id": "d6fcdcde",
   "metadata": {},
   "outputs": [
    {
     "data": {
      "text/html": [
       "<div>\n",
       "<style scoped>\n",
       "    .dataframe tbody tr th:only-of-type {\n",
       "        vertical-align: middle;\n",
       "    }\n",
       "\n",
       "    .dataframe tbody tr th {\n",
       "        vertical-align: top;\n",
       "    }\n",
       "\n",
       "    .dataframe thead th {\n",
       "        text-align: right;\n",
       "    }\n",
       "</style>\n",
       "<table border=\"1\" class=\"dataframe\">\n",
       "  <thead>\n",
       "    <tr style=\"text-align: right;\">\n",
       "      <th></th>\n",
       "      <th>age</th>\n",
       "      <th>dose</th>\n",
       "      <th>count</th>\n",
       "      <th>mean</th>\n",
       "      <th>std</th>\n",
       "    </tr>\n",
       "  </thead>\n",
       "  <tbody>\n",
       "    <tr>\n",
       "      <th>0</th>\n",
       "      <td>1</td>\n",
       "      <td>D1</td>\n",
       "      <td>16</td>\n",
       "      <td>104.758464</td>\n",
       "      <td>5.863454</td>\n",
       "    </tr>\n",
       "    <tr>\n",
       "      <th>1</th>\n",
       "      <td>1</td>\n",
       "      <td>D2</td>\n",
       "      <td>16</td>\n",
       "      <td>105.545864</td>\n",
       "      <td>4.369024</td>\n",
       "    </tr>\n",
       "    <tr>\n",
       "      <th>2</th>\n",
       "      <td>2</td>\n",
       "      <td>D1</td>\n",
       "      <td>16</td>\n",
       "      <td>101.004805</td>\n",
       "      <td>5.116310</td>\n",
       "    </tr>\n",
       "    <tr>\n",
       "      <th>3</th>\n",
       "      <td>2</td>\n",
       "      <td>D2</td>\n",
       "      <td>16</td>\n",
       "      <td>102.273629</td>\n",
       "      <td>5.135374</td>\n",
       "    </tr>\n",
       "  </tbody>\n",
       "</table>\n",
       "</div>"
      ],
      "text/plain": [
       "   age dose  count        mean       std\n",
       "0    1   D1     16  104.758464  5.863454\n",
       "1    1   D2     16  105.545864  4.369024\n",
       "2    2   D1     16  101.004805  5.116310\n",
       "3    2   D2     16  102.273629  5.135374"
      ]
     },
     "execution_count": 20,
     "metadata": {},
     "output_type": "execute_result"
    }
   ],
   "source": [
    "data.groupby(['age','dose'])['expr'].agg(['count', 'mean', 'std']).reset_index()"
   ]
  },
  {
   "cell_type": "markdown",
   "id": "d38ed7f4",
   "metadata": {},
   "source": [
    "Получается 4 группы испытуемых.\n",
    "\n",
    "Основная идея: общая изменчивость = внутригрупповая изменчивость + изменчивость обусловленная влиянием первого фактора + изменчивость обусловленная влиянием первого второго фактора + изменчивость обусловленная взаимодействием двух факторов\n",
    "\n",
    "SStotal = SSW + SSB(a) + SSB(b) + SSB(a)*SSB(b)"
   ]
  },
  {
   "cell_type": "code",
   "execution_count": 3,
   "id": "8df83331",
   "metadata": {
    "scrolled": false
   },
   "outputs": [
    {
     "name": "stdout",
     "output_type": "stream",
     "text": [
      "               sum_sq  df         F    PR(>F)\n",
      "age        197.452754   1  7.449841  0.008313\n",
      "dose        16.912241   1  0.638094  0.427552\n",
      "age:dose     0.927077   1  0.034978  0.852272\n",
      "Residual  1590.257424  60       NaN       NaN\n"
     ]
    },
    {
     "data": {
      "image/png": "[encoded data removed]",
      "text/plain": [
       "<Figure size 432x288 with 1 Axes>"
      ]
     },
     "metadata": {
      "needs_background": "light"
     },
     "output_type": "display_data"
    }
   ],
   "source": [
    "#Картинка\n",
    "fig=interaction_plot(data.dose,data.age,data.expr,colors=['green','red'], markers=['D','^'], ms=10)\n",
    "#Степени свободы\n",
    "N =  len(data.expr)\n",
    "m1 = len(data.age.unique())\n",
    "m2 = len(data.dose.unique())\n",
    "df_a = m1 - 1\n",
    "df_b = m2 - 1\n",
    "df_axb = df_a*df_b \n",
    "df_w = N - m1*m2\n",
    "#Общее среднее\n",
    "grand_mean = data['expr'].mean()\n",
    "#Суммы квадратов\n",
    "ssq_a = sum([(data[data.age ==i].expr.mean()-grand_mean)**2 for i in data.age])\n",
    "ssq_b = sum([(data[data.dose ==i].expr.mean()-grand_mean)**2 for i in data.dose])\n",
    "ssq_t = sum((data.expr - grand_mean)**2)\n",
    "spl_age=[data[data.age == i] for i in data.age.unique()]\n",
    "age_means=[[x_age[x_age.dose == d].expr.mean() for d in x_age.dose] for x_age in spl_age]\n",
    "ssq_w = sum([sum((spl_age[i].expr-age_means[i])**2) for i in range(len(data.age.unique()))])\n",
    "ssq_axb = ssq_t-ssq_a-ssq_b-ssq_w\n",
    "#Средние квадраты\n",
    "ms_a = ssq_a/df_a\n",
    "ms_b = ssq_b/df_b\n",
    "ms_axb = ssq_axb/df_axb\n",
    "ms_w = ssq_w/df_w\n",
    "#F-значения\n",
    "f_a = ms_a/ms_w\n",
    "f_b = ms_b/ms_w\n",
    "f_axb = ms_axb/ms_w\n",
    "#P-значения\n",
    "p_a = stats.f.sf(f_a, df_a, df_w)\n",
    "p_b = stats.f.sf(f_b, df_b, df_w)\n",
    "p_axb = stats.f.sf(f_axb, df_axb, df_w)\n",
    "#результаты\n",
    "results = {'sum_sq':[ssq_a, ssq_b, ssq_axb, ssq_w],\n",
    "           'df':[df_a, df_b, df_axb, df_w],\n",
    "           'F':[f_a, f_b, f_axb, 'NaN'],\n",
    "            'PR(>F)':[p_a, p_b, p_axb, 'NaN']}\n",
    "columns=['sum_sq', 'df', 'F', 'PR(>F)']\n",
    "aov_table1 = pd.DataFrame(results, columns=columns,\n",
    "                          index=['age', 'dose', \n",
    "                          'age:dose', 'Residual'])\n",
    "print(aov_table1)"
   ]
  },
  {
   "cell_type": "markdown",
   "id": "14c3b39d",
   "metadata": {},
   "source": [
    "Расчитаны степени свободы и суммы квардратов для каждого из показателей. Большая часть изменчивости благодаря фактору возраста **(sum_sq = 197.452754)**. А фактор дозировки и внутригрупповая изменчивость оказались незначительны. \n",
    "\n",
    "p-значение в age оказалось ниже 0,05, следовательно отклоняем Н0 о равенстве двух средних между молодыми и пожилыми людьми. Влияние возраста статистически значимо, чтобы отклонить Н0. Среднее значение для зеленых средних значений (молодые) выше, чем красные средние значения (пожилые). **Значимый эффект оказался для фактора возраста, но не значимый эффект оказался для фактора дозировки.**"
   ]
  }
 ],
 "metadata": {
  "kernelspec": {
   "display_name": "Python 3 (ipykernel)",
   "language": "python",
   "name": "python3"
  },
  "language_info": {
   "codemirror_mode": {
    "name": "ipython",
    "version": 3
   },
   "file_extension": ".py",
   "mimetype": "text/x-python",
   "name": "python",
   "nbconvert_exporter": "python",
   "pygments_lexer": "ipython3",
   "version": "3.8.8"
  }
 },
 "nbformat": 4,
 "nbformat_minor": 5
}
